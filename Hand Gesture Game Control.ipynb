{
 "cells": [
  {
   "cell_type": "code",
   "execution_count": 1,
   "id": "aa1d2222-2372-4678-af88-17e454d09c4d",
   "metadata": {},
   "outputs": [],
   "source": [
    "import cv2\n",
    "import mediapipe as mp\n",
    "import pyautogui\n",
    "import time"
   ]
  },
  {
   "cell_type": "code",
   "execution_count": 2,
   "id": "b96d7978-592a-4499-9c92-27082b0a0182",
   "metadata": {},
   "outputs": [],
   "source": [
    "mp_drawing = mp.solutions.drawing_utils\n",
    "mp_hands = mp.solutions.hands"
   ]
  },
  {
   "cell_type": "code",
   "execution_count": 3,
   "id": "a5130cc0-3f10-4c1b-a408-fbe6c08dcac9",
   "metadata": {},
   "outputs": [],
   "source": [
    "cap = cv2.VideoCapture(0)"
   ]
  },
  {
   "cell_type": "code",
   "execution_count": 4,
   "id": "f0b10dfb-3be8-4357-bf69-4e4abfa98427",
   "metadata": {},
   "outputs": [],
   "source": [
    "last_action_time = 0\n",
    "cooldown = 0.25"
   ]
  },
  {
   "cell_type": "code",
   "execution_count": 5,
   "id": "37f4316f-1678-4909-84dc-aff57aa18f7c",
   "metadata": {},
   "outputs": [],
   "source": [
    "with mp_hands.Hands(\n",
    "    max_num_hands=1,\n",
    "    min_detection_confidence=0.8,\n",
    "    min_tracking_confidence=0.8\n",
    ") as hands:\n",
    "\n",
    "    while cap.isOpened():\n",
    "        ret, frame = cap.read()\n",
    "        if not ret:\n",
    "            continue\n",
    "\n",
    "        # Flip and convert to RGB\n",
    "        frame = cv2.flip(frame, 1)\n",
    "        frame_rgb = cv2.cvtColor(frame, cv2.COLOR_BGR2RGB)\n",
    "\n",
    "        # Process hands\n",
    "        result = hands.process(frame_rgb)\n",
    "        frame_height, frame_width, _ = frame.shape\n",
    "\n",
    "        action = \"\"\n",
    "\n",
    "        if result.multi_hand_landmarks:\n",
    "            for hand_landmarks in result.multi_hand_landmarks:\n",
    "                mp_drawing.draw_landmarks(\n",
    "                    frame, hand_landmarks, mp_hands.HAND_CONNECTIONS)\n",
    "\n",
    "                # Get wrist (palm center)\n",
    "                palm = hand_landmarks.landmark[0]\n",
    "                x = int(palm.x * frame_width)\n",
    "                y = int(palm.y * frame_height)\n",
    "\n",
    "                # Visual feedback\n",
    "                cv2.circle(frame, (x, y), 12, (255, 0, 255), -1)\n",
    "\n",
    "                # Determine zones\n",
    "                current_time = time.time()\n",
    "                if current_time - last_action_time > cooldown:\n",
    "                    if x < frame_width // 3:\n",
    "                        pyautogui.press(\"left\")\n",
    "                        action = \"⬅️ Move Left\"\n",
    "                        last_action_time = current_time\n",
    "                    elif x > 2 * frame_width // 3:\n",
    "                        pyautogui.press(\"right\")\n",
    "                        action = \"➡️ Move Right\"\n",
    "                        last_action_time = current_time\n",
    "                    elif y < frame_height // 3:\n",
    "                        pyautogui.press(\"up\")\n",
    "                        action = \"⬆️ Jump\"\n",
    "                        last_action_time = current_time\n",
    "                    elif y > 2 * frame_height // 3:\n",
    "                        pyautogui.press(\"down\")\n",
    "                        action = \"⬇️ Slide\"\n",
    "                        last_action_time = current_time\n",
    "\n",
    "        # Show action and hand\n",
    "        if action:\n",
    "            cv2.putText(frame, action, (30, 60), cv2.FONT_HERSHEY_SIMPLEX, 1.2, (0, 255, 255), 3)\n",
    "\n",
    "        cv2.imshow(\"🖐️ Palm Gesture Controller\", frame)\n",
    "\n",
    "        # Exit on 'Esc'\n",
    "        if cv2.waitKey(10) & 0xFF == 27:\n",
    "            break\n",
    "\n",
    "cap.release()\n",
    "cv2.destroyAllWindows()"
   ]
  },
  {
   "cell_type": "code",
   "execution_count": null,
   "id": "82b11019-6823-4496-86d8-ee0293952e5c",
   "metadata": {},
   "outputs": [],
   "source": []
  }
 ],
 "metadata": {
  "kernelspec": {
   "display_name": "Python (GestureEnv)",
   "language": "python",
   "name": "gesture-env"
  },
  "language_info": {
   "codemirror_mode": {
    "name": "ipython",
    "version": 3
   },
   "file_extension": ".py",
   "mimetype": "text/x-python",
   "name": "python",
   "nbconvert_exporter": "python",
   "pygments_lexer": "ipython3",
   "version": "3.10.11"
  }
 },
 "nbformat": 4,
 "nbformat_minor": 5
}
